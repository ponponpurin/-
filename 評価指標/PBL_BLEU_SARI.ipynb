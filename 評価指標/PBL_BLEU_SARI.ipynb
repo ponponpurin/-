{
  "cells": [
    {
      "cell_type": "code",
      "execution_count": null,
      "metadata": {
        "colab": {
          "base_uri": "https://localhost:8080/"
        },
        "id": "TccwYKggnheN",
        "outputId": "eacfc9e7-9be6-441e-df72-37cfbe35e147"
      },
      "outputs": [
        {
          "name": "stdout",
          "output_type": "stream",
          "text": [
            "Collecting janome\n",
            "  Downloading Janome-0.5.0-py2.py3-none-any.whl (19.7 MB)\n",
            "\u001b[2K     \u001b[90m━━━━━━━━━━━━━━━━━━━━━━━━━━━━━━━━━━━━━━━━\u001b[0m \u001b[32m19.7/19.7 MB\u001b[0m \u001b[31m47.0 MB/s\u001b[0m eta \u001b[36m0:00:00\u001b[0m\n",
            "\u001b[?25hInstalling collected packages: janome\n",
            "Successfully installed janome-0.5.0\n"
          ]
        }
      ],
      "source": [
        "!pip install janome"
      ]
    },
    {
      "cell_type": "code",
      "execution_count": null,
      "metadata": {
        "colab": {
          "base_uri": "https://localhost:8080/"
        },
        "id": "SQFTxD1CiqmA",
        "outputId": "62ddcec4-66fb-425b-aa9f-746d77bdfb19"
      },
      "outputs": [
        {
          "name": "stdout",
          "output_type": "stream",
          "text": [
            "BLEUスコア: 0.19488581189034937\n"
          ]
        }
      ],
      "source": [
        "from janome.tokenizer import Tokenizer\n",
        "from nltk.translate.bleu_score import sentence_bleu\n",
        "import re\n",
        "\n",
        "def preprocess_text(text):\n",
        "    # 小文字化と句読点の削除\n",
        "    text = text.lower()\n",
        "    text = re.sub(r'[^\\w\\s]', '', text)\n",
        "    return text\n",
        "\n",
        "def tokenize_text_japanese(text):\n",
        "    # janomeを使用して日本語の形態素解析を行い、単語に分割\n",
        "    tokenizer = Tokenizer()\n",
        "    tokens = [token.surface for token in tokenizer.tokenize(text)]\n",
        "    return tokens\n",
        "\n",
        "def calculate_bleu(reference, candidate):\n",
        "    # BLEUスコアの計算\n",
        "    reference = preprocess_text(reference)\n",
        "    candidate = preprocess_text(candidate)\n",
        "\n",
        "    # NLTKのsentence_bleu関数を使用してBLEUスコアを計算\n",
        "    reference_tokens = [tokenize_text_japanese(reference)]  # 正解文をトークン化\n",
        "    candidate_tokens = tokenize_text_japanese(candidate)  # 出力文をトークン化\n",
        "\n",
        "    # BLEUスコアの計算（適切な重みづけを設定）\n",
        "    bleu_score = sentence_bleu(reference_tokens, candidate_tokens, weights=(0.25, 0.25, 0.25, 0.25))\n",
        "\n",
        "    return bleu_score\n",
        "\n",
        "# 入力文と正解文\n",
        "input_text = \"介護の仕事をしていると、いろいろな人との出会いが生まれる。以前、ある認知症のおばあちゃんがいて「帰りますね」とよく言っていた。施設の玄関に行って靴を履き、帰る準備万端。介護職員が帰ろうとするのを遮ってしまうと、当然のごとく怒りはじめる。おばあちゃんの思考の中では、本当に家で小さい子どもが熱をだして待っていると思っている。小さい子どもはすでに大人になっており、熱をだしてはいないのだが…。私は「わかりました。大変ですね。一緒に行きます」と言って、おばあちゃんと一緒に家の方に向かって歩きだす。しばらく歩くと、おばあちゃんも疲れた表情を見せる。ラーメン店の屋外ベンチを見つけ、そこで二人で休憩する。世間話をしているうちに、おばあちゃんは「なんでここにおるん？」と言って、さっきまでのことを忘れている。そこへたまたま通りかかったふりをした施設の車が到着する。「疲れたでしょう。どうぞ乗ってください」と運転手。「ああ、よかった」とおばあちゃん。介護をしながら、あの手この手を考えていく。決まった方法などない。人は十人十色だから。\"\n",
        "reference_text = \"介護の仕事をしていると、たくさんの人との出会いがあるんだ。前に、ある物忘れが激しいおばあちゃんがいて「帰りますね」とよく言っていた。施設の玄関に行って靴を履いて、帰る準備を済ませていたんだ。介護の人がおばあちゃんを止めると、当たり前のようにおばあちゃんは怒りはじめるんだ。おばあちゃんの頭の中では、本当に家で小さい子どもが熱をだして待っていると思っているんだ。小さい子どもはすでに大人になっていて、熱をだして待っているわけではないんだ。私は「わかりました。大変ですね。一緒に行きますね」と言って、おばあちゃんと一緒に家の方に向かって歩きだしたんだ。しばらく歩くと、おばあちゃんも疲れた顔になるんだ。ラーメン屋の外にあるベンチを見つけて、そこで二人で休んだんだ。おばあちゃんとお話をしているうちに、おばあちゃんは「なんでここにおるん？」と言って、さっきまでのことを忘れていたんだ。そこへたまたま通りかかったふりをした施設の車が来たんだ。「疲れたでしょう。どうぞ乗ってください」と運転手が言ったんだよ。「ああ、よかった」とおばあちゃん行ったんだ。介護をしながら、色々工夫して考えていくんだ。決まった方法などないんだよ。人は人によってそれぞれみな違うからね。\"\n",
        "\n",
        "# 簡単な文章になったと仮定した出力文\n",
        "output_text = \"お世話をする仕事をしていると、いろんな人に会うことがあるんだ。前に、おばあさんがいて、「もう帰るね」とよく言っていたんだ。おじいさんおばあさんが住む施設の玄関まで行って、靴をはいて、帰る準備をする。でも、おばあさんが帰ろうとすると、お世話の人が止めると、おばあさんは怒るんだ。おばあさんは、自分の家に小さい子どもが熱を出して待っていると思っているんだ。でも、その小さい子どもはもう大きくなっていて、熱も出していないのに…。私は「わかったよ。大変だね。一緒に行こう」と言って、おばあさんと一緒に家に向かって歩き始める。少し歩いたら、おばあさんも疲れてきた。そこでラーメン屋さんの外にあるベンチで休むことになる。おばあさんとお話をしていると、おばあさんは「なんでここにいるの？」と言って、さっきのことを忘れてしまう。そこにたまたま通りかかったふりをした施設の車が来る。「疲れたね。乗っていってね」と運転手が言う。「ああ、よかった」とおばあさん。お世話をする仕事をしていて、いろいろな方法を考えながら仕事をする。一つの方法だけではない。だって、人はみんな違うから。\"\n",
        "\n",
        "# BLEUスコアの計算\n",
        "bleu_score = calculate_bleu(reference_text, output_text)\n",
        "\n",
        "# 結果の表示\n",
        "print(\"BLEUスコア:\", bleu_score)"
      ]
    },
    {
      "cell_type": "code",
      "execution_count": null,
      "metadata": {
        "colab": {
          "background_save": true,
          "base_uri": "https://localhost:8080/"
        },
        "id": "P_-V8sOW9Oce",
        "outputId": "a72869cd-5dec-4981-ced3-3528225a034d"
      },
      "outputs": [
        {
          "name": "stdout",
          "output_type": "stream",
          "text": [
            "Requirement already satisfied: evaluate in /usr/local/lib/python3.10/dist-packages (0.4.1)\n",
            "Requirement already satisfied: datasets>=2.0.0 in /usr/local/lib/python3.10/dist-packages (from evaluate) (2.16.1)\n",
            "Requirement already satisfied: numpy>=1.17 in /usr/local/lib/python3.10/dist-packages (from evaluate) (1.23.5)\n",
            "Requirement already satisfied: dill in /usr/local/lib/python3.10/dist-packages (from evaluate) (0.3.7)\n",
            "Requirement already satisfied: pandas in /usr/local/lib/python3.10/dist-packages (from evaluate) (1.5.3)\n",
            "Requirement already satisfied: requests>=2.19.0 in /usr/local/lib/python3.10/dist-packages (from evaluate) (2.31.0)\n",
            "Requirement already satisfied: tqdm>=4.62.1 in /usr/local/lib/python3.10/dist-packages (from evaluate) (4.66.1)\n",
            "Requirement already satisfied: xxhash in /usr/local/lib/python3.10/dist-packages (from evaluate) (3.4.1)\n",
            "Requirement already satisfied: multiprocess in /usr/local/lib/python3.10/dist-packages (from evaluate) (0.70.15)\n",
            "Requirement already satisfied: fsspec[http]>=2021.05.0 in /usr/local/lib/python3.10/dist-packages (from evaluate) (2023.6.0)\n",
            "Requirement already satisfied: huggingface-hub>=0.7.0 in /usr/local/lib/python3.10/dist-packages (from evaluate) (0.20.3)\n",
            "Requirement already satisfied: packaging in /usr/local/lib/python3.10/dist-packages (from evaluate) (23.2)\n",
            "Requirement already satisfied: responses<0.19 in /usr/local/lib/python3.10/dist-packages (from evaluate) (0.18.0)\n",
            "Requirement already satisfied: filelock in /usr/local/lib/python3.10/dist-packages (from datasets>=2.0.0->evaluate) (3.13.1)\n",
            "Requirement already satisfied: pyarrow>=8.0.0 in /usr/local/lib/python3.10/dist-packages (from datasets>=2.0.0->evaluate) (10.0.1)\n",
            "Requirement already satisfied: pyarrow-hotfix in /usr/local/lib/python3.10/dist-packages (from datasets>=2.0.0->evaluate) (0.6)\n",
            "Requirement already satisfied: aiohttp in /usr/local/lib/python3.10/dist-packages (from datasets>=2.0.0->evaluate) (3.9.1)\n",
            "Requirement already satisfied: pyyaml>=5.1 in /usr/local/lib/python3.10/dist-packages (from datasets>=2.0.0->evaluate) (6.0.1)\n",
            "Requirement already satisfied: typing-extensions>=3.7.4.3 in /usr/local/lib/python3.10/dist-packages (from huggingface-hub>=0.7.0->evaluate) (4.5.0)\n",
            "Requirement already satisfied: charset-normalizer<4,>=2 in /usr/local/lib/python3.10/dist-packages (from requests>=2.19.0->evaluate) (3.3.2)\n",
            "Requirement already satisfied: idna<4,>=2.5 in /usr/local/lib/python3.10/dist-packages (from requests>=2.19.0->evaluate) (3.6)\n",
            "Requirement already satisfied: urllib3<3,>=1.21.1 in /usr/local/lib/python3.10/dist-packages (from requests>=2.19.0->evaluate) (2.0.7)\n",
            "Requirement already satisfied: certifi>=2017.4.17 in /usr/local/lib/python3.10/dist-packages (from requests>=2.19.0->evaluate) (2023.11.17)\n",
            "Requirement already satisfied: python-dateutil>=2.8.1 in /usr/local/lib/python3.10/dist-packages (from pandas->evaluate) (2.8.2)\n",
            "Requirement already satisfied: pytz>=2020.1 in /usr/local/lib/python3.10/dist-packages (from pandas->evaluate) (2023.3.post1)\n",
            "Requirement already satisfied: attrs>=17.3.0 in /usr/local/lib/python3.10/dist-packages (from aiohttp->datasets>=2.0.0->evaluate) (23.2.0)\n",
            "Requirement already satisfied: multidict<7.0,>=4.5 in /usr/local/lib/python3.10/dist-packages (from aiohttp->datasets>=2.0.0->evaluate) (6.0.4)\n",
            "Requirement already satisfied: yarl<2.0,>=1.0 in /usr/local/lib/python3.10/dist-packages (from aiohttp->datasets>=2.0.0->evaluate) (1.9.4)\n",
            "Requirement already satisfied: frozenlist>=1.1.1 in /usr/local/lib/python3.10/dist-packages (from aiohttp->datasets>=2.0.0->evaluate) (1.4.1)\n",
            "Requirement already satisfied: aiosignal>=1.1.2 in /usr/local/lib/python3.10/dist-packages (from aiohttp->datasets>=2.0.0->evaluate) (1.3.1)\n",
            "Requirement already satisfied: async-timeout<5.0,>=4.0 in /usr/local/lib/python3.10/dist-packages (from aiohttp->datasets>=2.0.0->evaluate) (4.0.3)\n",
            "Requirement already satisfied: six>=1.5 in /usr/local/lib/python3.10/dist-packages (from python-dateutil>=2.8.1->pandas->evaluate) (1.16.0)\n"
          ]
        }
      ],
      "source": [
        "!pip install --upgrade evaluate"
      ]
    },
    {
      "cell_type": "code",
      "execution_count": null,
      "metadata": {
        "colab": {
          "background_save": true,
          "base_uri": "https://localhost:8080/"
        },
        "id": "rl00cQZUC689",
        "outputId": "41812bb1-9604-4ba4-c85e-8a28fe5e429b"
      },
      "outputs": [
        {
          "name": "stdout",
          "output_type": "stream",
          "text": [
            "Requirement already satisfied: sacremoses in /usr/local/lib/python3.10/dist-packages (0.1.1)\n",
            "Requirement already satisfied: sacrebleu in /usr/local/lib/python3.10/dist-packages (2.4.0)\n",
            "Requirement already satisfied: regex in /usr/local/lib/python3.10/dist-packages (from sacremoses) (2023.6.3)\n",
            "Requirement already satisfied: click in /usr/local/lib/python3.10/dist-packages (from sacremoses) (8.1.7)\n",
            "Requirement already satisfied: joblib in /usr/local/lib/python3.10/dist-packages (from sacremoses) (1.3.2)\n",
            "Requirement already satisfied: tqdm in /usr/local/lib/python3.10/dist-packages (from sacremoses) (4.66.1)\n",
            "Requirement already satisfied: portalocker in /usr/local/lib/python3.10/dist-packages (from sacrebleu) (2.8.2)\n",
            "Requirement already satisfied: tabulate>=0.8.9 in /usr/local/lib/python3.10/dist-packages (from sacrebleu) (0.9.0)\n",
            "Requirement already satisfied: numpy>=1.17 in /usr/local/lib/python3.10/dist-packages (from sacrebleu) (1.23.5)\n",
            "Requirement already satisfied: colorama in /usr/local/lib/python3.10/dist-packages (from sacrebleu) (0.4.6)\n",
            "Requirement already satisfied: lxml in /usr/local/lib/python3.10/dist-packages (from sacrebleu) (4.9.4)\n"
          ]
        }
      ],
      "source": [
        "!pip install sacremoses sacrebleu"
      ]
    },
    {
      "cell_type": "code",
      "execution_count": null,
      "metadata": {
        "colab": {
          "base_uri": "https://localhost:8080/"
        },
        "id": "Us-GHfeQm5dm",
        "outputId": "e6803e55-1d0b-4eff-8542-2ee956c4d4b8"
      },
      "outputs": [
        {
          "name": "stdout",
          "output_type": "stream",
          "text": [
            "Requirement already satisfied: janome in /usr/local/lib/python3.10/dist-packages (0.5.0)\n"
          ]
        }
      ],
      "source": [
        "!pip install janome"
      ]
    },
    {
      "cell_type": "code",
      "execution_count": null,
      "metadata": {
        "colab": {
          "base_uri": "https://localhost:8080/",
          "height": 67,
          "referenced_widgets": [
            "a1545a3e0a7d45878ec08d3e519d8bad",
            "2d3762b2f0ac4e1c9457ddc9a6837ffe",
            "dc2bb0ea6c984c6baef451cbc46fd906",
            "c3816846b4334e9e99abbb279a90f55b",
            "9c34c133c80e435bb2d9feb343b235a3",
            "2cc671543e534b06bdc9bc437d4b6c68",
            "5eaf269b0733452a89efbeb556b6bd75",
            "9f9d27b8f1d14eeb86853831bd52231c",
            "3b05b45e5b5c48d9986ab2188928d804",
            "d2ca995ef15c4708af93682bb7afe34e",
            "61788057ba72451cb150e79957752741"
          ]
        },
        "id": "eLFnri4dpNRf",
        "outputId": "34b359ae-c1a1-438c-bceb-468ce6770bf7"
      },
      "outputs": [
        {
          "data": {
            "application/vnd.jupyter.widget-view+json": {
              "model_id": "a1545a3e0a7d45878ec08d3e519d8bad",
              "version_major": 2,
              "version_minor": 0
            },
            "text/plain": [
              "Downloading builder script:   0%|          | 0.00/12.1k [00:00<?, ?B/s]"
            ]
          },
          "metadata": {},
          "output_type": "display_data"
        },
        {
          "name": "stdout",
          "output_type": "stream",
          "text": [
            "{'sari': 58.910710138777624}\n"
          ]
        }
      ],
      "source": [
        "# janomeモジュールの読み込み\n",
        "from janome.tokenizer import Tokenizer\n",
        "\n",
        "# sariモジュールの読み込み\n",
        "import evaluate\n",
        "\n",
        "def split_into_words_janome(sentences):\n",
        "    tokenizer = Tokenizer()\n",
        "    return [\" \".join([token.surface for token in tokenizer.tokenize(sentence)]) for sentence in sentences]\n",
        "\n",
        "sari = evaluate.load(\"sari\")\n",
        "\n",
        "sources = [\"介護の仕事をしていると、いろいろな人との出会いが生まれる。以前、ある認知症のおばあちゃんがいて「帰りますね」とよく言っていた。施設の玄関に行って靴を履き、帰る準備万端。介護職員が帰ろうとするのを遮ってしまうと、当然のごとく怒りはじめる。おばあちゃんの思考の中では、本当に家で小さい子どもが熱をだして待っていると思っている。小さい子どもはすでに大人になっており、熱をだしてはいないのだが…。私は「わかりました。大変ですね。一緒に行きます」と言って、おばあちゃんと一緒に家の方に向かって歩きだす。しばらく歩くと、おばあちゃんも疲れた表情を見せる。ラーメン店の屋外ベンチを見つけ、そこで二人で休憩する。世間話をしているうちに、おばあちゃんは「なんでここにおるん？」と言って、さっきまでのことを忘れている。そこへたまたま通りかかったふりをした施設の車が到着する。「疲れたでしょう。どうぞ乗ってください」と運転手。「ああ、よかった」とおばあちゃん。介護をしながら、あの手この手を考えていく。決まった方法などない。人は十人十色だから。\"]\n",
        "predictions = [\"お世話をする仕事をしていると、いろんな人に会うことがあるんだ。前に、おばあさんがいて、「もう帰るね」とよく言っていたんだ。おじいさんおばあさんが住む施設の玄関まで行って、靴をはいて、帰る準備をする。でも、おばあさんが帰ろうとすると、お世話の人が止めると、おばあさんは怒るんだ。おばあさんは、自分の家に小さい子どもが熱を出して待っていると思っているんだ。でも、その小さい子どもはもう大きくなっていて、熱も出していないのに…。私は「わかったよ。大変だね。一緒に行こう」と言って、おばあさんと一緒に家に向かって歩き始める。少し歩いたら、おばあさんも疲れてきた。そこでラーメン屋さんの外にあるベンチで休むことになる。おばあさんとお話をしていると、おばあさんは「なんでここにいるの？」と言って、さっきのことを忘れてしまう。そこにたまたま通りかかったふりをした施設の車が来る。「疲れたね。乗っていってね」と運転手が言う。「ああ、よかった」とおばあさん。お世話をする仕事をしていて、いろいろな方法を考えながら仕事をする。一つの方法だけではない。だって、人はみんな違うから。\"]\n",
        "references = [[\"介護の仕事をしていると、たくさんの人との出会いがあるんだ。前に、ある物忘れが激しいおばあちゃんがいて「帰りますね」とよく言っていた。施設の玄関に行って靴を履いて、帰る準備を済ませていたんだ。介護の人がおばあちゃんを止めると、当たり前のようにおばあちゃんは怒りはじめるんだ。おばあちゃんの頭の中では、本当に家で小さい子どもが熱をだして待っていると思っているんだ。小さい子どもはすでに大人になっていて、熱をだして待っているわけではないんだ。私は「わかりました。大変ですね。一緒に行きますね」と言って、おばあちゃんと一緒に家の方に向かって歩きだしたんだ。しばらく歩くと、おばあちゃんも疲れた顔になるんだ。ラーメン屋の外にあるベンチを見つけて、そこで二人で休んだんだ。おばあちゃんとお話をしているうちに、おばあちゃんは「なんでここにおるん？」と言って、さっきまでのことを忘れていたんだ。そこへたまたま通りかかったふりをした施設の車が来たんだ。「疲れたでしょう。どうぞ乗ってください」と運転手が言ったんだよ。「ああ、よかった」とおばあちゃん行ったんだ。介護をしながら、色々工夫して考えていくんだ。決まった方法などないんだよ。人は人によってそれぞれみな違うからね。\"]]\n",
        "\n",
        "# 文を単語に分割（janomeを使用）\n",
        "sources_words = split_into_words_janome(sources)\n",
        "predictions_words = split_into_words_janome(predictions)\n",
        "references_words = [split_into_words_janome(ref) for ref in references]\n",
        "\n",
        "sari_score = sari.compute(sources=sources_words, predictions=predictions_words, references=references_words)\n",
        "print(sari_score)"
      ]
    }
  ],
  "metadata": {
    "accelerator": "GPU",
    "colab": {
      "provenance": []
    },
    "kernelspec": {
      "display_name": "Python 3",
      "name": "python3"
    },
    "language_info": {
      "name": "python"
    },
    "widgets": {
      "application/vnd.jupyter.widget-state+json": {
        "2cc671543e534b06bdc9bc437d4b6c68": {
          "model_module": "@jupyter-widgets/base",
          "model_module_version": "1.2.0",
          "model_name": "LayoutModel",
          "state": {
            "_model_module": "@jupyter-widgets/base",
            "_model_module_version": "1.2.0",
            "_model_name": "LayoutModel",
            "_view_count": null,
            "_view_module": "@jupyter-widgets/base",
            "_view_module_version": "1.2.0",
            "_view_name": "LayoutView",
            "align_content": null,
            "align_items": null,
            "align_self": null,
            "border": null,
            "bottom": null,
            "display": null,
            "flex": null,
            "flex_flow": null,
            "grid_area": null,
            "grid_auto_columns": null,
            "grid_auto_flow": null,
            "grid_auto_rows": null,
            "grid_column": null,
            "grid_gap": null,
            "grid_row": null,
            "grid_template_areas": null,
            "grid_template_columns": null,
            "grid_template_rows": null,
            "height": null,
            "justify_content": null,
            "justify_items": null,
            "left": null,
            "margin": null,
            "max_height": null,
            "max_width": null,
            "min_height": null,
            "min_width": null,
            "object_fit": null,
            "object_position": null,
            "order": null,
            "overflow": null,
            "overflow_x": null,
            "overflow_y": null,
            "padding": null,
            "right": null,
            "top": null,
            "visibility": null,
            "width": null
          }
        },
        "2d3762b2f0ac4e1c9457ddc9a6837ffe": {
          "model_module": "@jupyter-widgets/controls",
          "model_module_version": "1.5.0",
          "model_name": "HTMLModel",
          "state": {
            "_dom_classes": [],
            "_model_module": "@jupyter-widgets/controls",
            "_model_module_version": "1.5.0",
            "_model_name": "HTMLModel",
            "_view_count": null,
            "_view_module": "@jupyter-widgets/controls",
            "_view_module_version": "1.5.0",
            "_view_name": "HTMLView",
            "description": "",
            "description_tooltip": null,
            "layout": "IPY_MODEL_2cc671543e534b06bdc9bc437d4b6c68",
            "placeholder": "​",
            "style": "IPY_MODEL_5eaf269b0733452a89efbeb556b6bd75",
            "value": "Downloading builder script: 100%"
          }
        },
        "3b05b45e5b5c48d9986ab2188928d804": {
          "model_module": "@jupyter-widgets/controls",
          "model_module_version": "1.5.0",
          "model_name": "ProgressStyleModel",
          "state": {
            "_model_module": "@jupyter-widgets/controls",
            "_model_module_version": "1.5.0",
            "_model_name": "ProgressStyleModel",
            "_view_count": null,
            "_view_module": "@jupyter-widgets/base",
            "_view_module_version": "1.2.0",
            "_view_name": "StyleView",
            "bar_color": null,
            "description_width": ""
          }
        },
        "5eaf269b0733452a89efbeb556b6bd75": {
          "model_module": "@jupyter-widgets/controls",
          "model_module_version": "1.5.0",
          "model_name": "DescriptionStyleModel",
          "state": {
            "_model_module": "@jupyter-widgets/controls",
            "_model_module_version": "1.5.0",
            "_model_name": "DescriptionStyleModel",
            "_view_count": null,
            "_view_module": "@jupyter-widgets/base",
            "_view_module_version": "1.2.0",
            "_view_name": "StyleView",
            "description_width": ""
          }
        },
        "61788057ba72451cb150e79957752741": {
          "model_module": "@jupyter-widgets/controls",
          "model_module_version": "1.5.0",
          "model_name": "DescriptionStyleModel",
          "state": {
            "_model_module": "@jupyter-widgets/controls",
            "_model_module_version": "1.5.0",
            "_model_name": "DescriptionStyleModel",
            "_view_count": null,
            "_view_module": "@jupyter-widgets/base",
            "_view_module_version": "1.2.0",
            "_view_name": "StyleView",
            "description_width": ""
          }
        },
        "9c34c133c80e435bb2d9feb343b235a3": {
          "model_module": "@jupyter-widgets/base",
          "model_module_version": "1.2.0",
          "model_name": "LayoutModel",
          "state": {
            "_model_module": "@jupyter-widgets/base",
            "_model_module_version": "1.2.0",
            "_model_name": "LayoutModel",
            "_view_count": null,
            "_view_module": "@jupyter-widgets/base",
            "_view_module_version": "1.2.0",
            "_view_name": "LayoutView",
            "align_content": null,
            "align_items": null,
            "align_self": null,
            "border": null,
            "bottom": null,
            "display": null,
            "flex": null,
            "flex_flow": null,
            "grid_area": null,
            "grid_auto_columns": null,
            "grid_auto_flow": null,
            "grid_auto_rows": null,
            "grid_column": null,
            "grid_gap": null,
            "grid_row": null,
            "grid_template_areas": null,
            "grid_template_columns": null,
            "grid_template_rows": null,
            "height": null,
            "justify_content": null,
            "justify_items": null,
            "left": null,
            "margin": null,
            "max_height": null,
            "max_width": null,
            "min_height": null,
            "min_width": null,
            "object_fit": null,
            "object_position": null,
            "order": null,
            "overflow": null,
            "overflow_x": null,
            "overflow_y": null,
            "padding": null,
            "right": null,
            "top": null,
            "visibility": null,
            "width": null
          }
        },
        "9f9d27b8f1d14eeb86853831bd52231c": {
          "model_module": "@jupyter-widgets/base",
          "model_module_version": "1.2.0",
          "model_name": "LayoutModel",
          "state": {
            "_model_module": "@jupyter-widgets/base",
            "_model_module_version": "1.2.0",
            "_model_name": "LayoutModel",
            "_view_count": null,
            "_view_module": "@jupyter-widgets/base",
            "_view_module_version": "1.2.0",
            "_view_name": "LayoutView",
            "align_content": null,
            "align_items": null,
            "align_self": null,
            "border": null,
            "bottom": null,
            "display": null,
            "flex": null,
            "flex_flow": null,
            "grid_area": null,
            "grid_auto_columns": null,
            "grid_auto_flow": null,
            "grid_auto_rows": null,
            "grid_column": null,
            "grid_gap": null,
            "grid_row": null,
            "grid_template_areas": null,
            "grid_template_columns": null,
            "grid_template_rows": null,
            "height": null,
            "justify_content": null,
            "justify_items": null,
            "left": null,
            "margin": null,
            "max_height": null,
            "max_width": null,
            "min_height": null,
            "min_width": null,
            "object_fit": null,
            "object_position": null,
            "order": null,
            "overflow": null,
            "overflow_x": null,
            "overflow_y": null,
            "padding": null,
            "right": null,
            "top": null,
            "visibility": null,
            "width": null
          }
        },
        "a1545a3e0a7d45878ec08d3e519d8bad": {
          "model_module": "@jupyter-widgets/controls",
          "model_module_version": "1.5.0",
          "model_name": "HBoxModel",
          "state": {
            "_dom_classes": [],
            "_model_module": "@jupyter-widgets/controls",
            "_model_module_version": "1.5.0",
            "_model_name": "HBoxModel",
            "_view_count": null,
            "_view_module": "@jupyter-widgets/controls",
            "_view_module_version": "1.5.0",
            "_view_name": "HBoxView",
            "box_style": "",
            "children": [
              "IPY_MODEL_2d3762b2f0ac4e1c9457ddc9a6837ffe",
              "IPY_MODEL_dc2bb0ea6c984c6baef451cbc46fd906",
              "IPY_MODEL_c3816846b4334e9e99abbb279a90f55b"
            ],
            "layout": "IPY_MODEL_9c34c133c80e435bb2d9feb343b235a3"
          }
        },
        "c3816846b4334e9e99abbb279a90f55b": {
          "model_module": "@jupyter-widgets/controls",
          "model_module_version": "1.5.0",
          "model_name": "HTMLModel",
          "state": {
            "_dom_classes": [],
            "_model_module": "@jupyter-widgets/controls",
            "_model_module_version": "1.5.0",
            "_model_name": "HTMLModel",
            "_view_count": null,
            "_view_module": "@jupyter-widgets/controls",
            "_view_module_version": "1.5.0",
            "_view_name": "HTMLView",
            "description": "",
            "description_tooltip": null,
            "layout": "IPY_MODEL_d2ca995ef15c4708af93682bb7afe34e",
            "placeholder": "​",
            "style": "IPY_MODEL_61788057ba72451cb150e79957752741",
            "value": " 12.1k/12.1k [00:00&lt;00:00, 284kB/s]"
          }
        },
        "d2ca995ef15c4708af93682bb7afe34e": {
          "model_module": "@jupyter-widgets/base",
          "model_module_version": "1.2.0",
          "model_name": "LayoutModel",
          "state": {
            "_model_module": "@jupyter-widgets/base",
            "_model_module_version": "1.2.0",
            "_model_name": "LayoutModel",
            "_view_count": null,
            "_view_module": "@jupyter-widgets/base",
            "_view_module_version": "1.2.0",
            "_view_name": "LayoutView",
            "align_content": null,
            "align_items": null,
            "align_self": null,
            "border": null,
            "bottom": null,
            "display": null,
            "flex": null,
            "flex_flow": null,
            "grid_area": null,
            "grid_auto_columns": null,
            "grid_auto_flow": null,
            "grid_auto_rows": null,
            "grid_column": null,
            "grid_gap": null,
            "grid_row": null,
            "grid_template_areas": null,
            "grid_template_columns": null,
            "grid_template_rows": null,
            "height": null,
            "justify_content": null,
            "justify_items": null,
            "left": null,
            "margin": null,
            "max_height": null,
            "max_width": null,
            "min_height": null,
            "min_width": null,
            "object_fit": null,
            "object_position": null,
            "order": null,
            "overflow": null,
            "overflow_x": null,
            "overflow_y": null,
            "padding": null,
            "right": null,
            "top": null,
            "visibility": null,
            "width": null
          }
        },
        "dc2bb0ea6c984c6baef451cbc46fd906": {
          "model_module": "@jupyter-widgets/controls",
          "model_module_version": "1.5.0",
          "model_name": "FloatProgressModel",
          "state": {
            "_dom_classes": [],
            "_model_module": "@jupyter-widgets/controls",
            "_model_module_version": "1.5.0",
            "_model_name": "FloatProgressModel",
            "_view_count": null,
            "_view_module": "@jupyter-widgets/controls",
            "_view_module_version": "1.5.0",
            "_view_name": "ProgressView",
            "bar_style": "success",
            "description": "",
            "description_tooltip": null,
            "layout": "IPY_MODEL_9f9d27b8f1d14eeb86853831bd52231c",
            "max": 12063,
            "min": 0,
            "orientation": "horizontal",
            "style": "IPY_MODEL_3b05b45e5b5c48d9986ab2188928d804",
            "value": 12063
          }
        }
      }
    }
  },
  "nbformat": 4,
  "nbformat_minor": 0
}